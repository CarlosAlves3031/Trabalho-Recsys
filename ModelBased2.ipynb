{
 "cells": [
  {
   "cell_type": "code",
   "execution_count": 48,
   "metadata": {},
   "outputs": [],
   "source": [
    "import pandas as pd\n",
    "import numpy as np\n",
    "import math\n",
    "import time\n",
    "from sklearn.model_selection import train_test_split\n",
    "from sklearn.model_selection import KFold\n",
    "import matplotlib.pyplot as plt"
   ]
  },
  {
   "cell_type": "code",
   "execution_count": 49,
   "metadata": {},
   "outputs": [
    {
     "data": {
      "text/html": [
       "<div>\n",
       "<style scoped>\n",
       "    .dataframe tbody tr th:only-of-type {\n",
       "        vertical-align: middle;\n",
       "    }\n",
       "\n",
       "    .dataframe tbody tr th {\n",
       "        vertical-align: top;\n",
       "    }\n",
       "\n",
       "    .dataframe thead th {\n",
       "        text-align: right;\n",
       "    }\n",
       "</style>\n",
       "<table border=\"1\" class=\"dataframe\">\n",
       "  <thead>\n",
       "    <tr style=\"text-align: right;\">\n",
       "      <th></th>\n",
       "      <th>user_id</th>\n",
       "      <th>item_id</th>\n",
       "      <th>rating</th>\n",
       "    </tr>\n",
       "  </thead>\n",
       "  <tbody>\n",
       "    <tr>\n",
       "      <th>0</th>\n",
       "      <td>196</td>\n",
       "      <td>242</td>\n",
       "      <td>3</td>\n",
       "    </tr>\n",
       "    <tr>\n",
       "      <th>1</th>\n",
       "      <td>186</td>\n",
       "      <td>302</td>\n",
       "      <td>3</td>\n",
       "    </tr>\n",
       "    <tr>\n",
       "      <th>2</th>\n",
       "      <td>22</td>\n",
       "      <td>377</td>\n",
       "      <td>1</td>\n",
       "    </tr>\n",
       "    <tr>\n",
       "      <th>3</th>\n",
       "      <td>244</td>\n",
       "      <td>51</td>\n",
       "      <td>2</td>\n",
       "    </tr>\n",
       "    <tr>\n",
       "      <th>4</th>\n",
       "      <td>166</td>\n",
       "      <td>346</td>\n",
       "      <td>1</td>\n",
       "    </tr>\n",
       "  </tbody>\n",
       "</table>\n",
       "</div>"
      ],
      "text/plain": [
       "   user_id  item_id  rating\n",
       "0      196      242       3\n",
       "1      186      302       3\n",
       "2       22      377       1\n",
       "3      244       51       2\n",
       "4      166      346       1"
      ]
     },
     "execution_count": 49,
     "metadata": {},
     "output_type": "execute_result"
    }
   ],
   "source": [
    "# Carregar dataset\n",
    "data = pd.read_csv(r\"ml-100k\\u.data\", sep=\"\\t\", names=[\"user_id\", \"item_id\", \"rating\", \"timestamp\"])\n",
    "data = data.drop('timestamp', axis=1)\n",
    "data.head()"
   ]
  },
  {
   "cell_type": "code",
   "execution_count": 50,
   "metadata": {},
   "outputs": [
    {
     "data": {
      "text/plain": [
       "'\"\"\\ntrain_data, test_data = train_test_split(data, test_size=0.2, random_state=42)\\nprint(f\"Tamanho do conjunto do dataset: {len(data)}\")\\nprint(f\"Tamanho do conjunto de teste: {len(test_data)}\")\\nprint(f\"Tamanho do conjunto de treino: {len(train_data)}\")\\n'"
      ]
     },
     "execution_count": 50,
     "metadata": {},
     "output_type": "execute_result"
    }
   ],
   "source": [
    "# Divisão dos dados\n",
    "\"\"\"\"\"\n",
    "train_data, test_data = train_test_split(data, test_size=0.2, random_state=42)\n",
    "print(f\"Tamanho do conjunto do dataset: {len(data)}\")\n",
    "print(f\"Tamanho do conjunto de teste: {len(test_data)}\")\n",
    "print(f\"Tamanho do conjunto de treino: {len(train_data)}\")\n",
    "\"\"\"\"\""
   ]
  },
  {
   "cell_type": "code",
   "execution_count": 51,
   "metadata": {},
   "outputs": [],
   "source": [
    "class Avaliacao:\n",
    "    def __init__(self, usuario_id, filme_id, avaliacao):\n",
    "        self.usuario = usuario_id - 1\n",
    "        self.filme = filme_id - 1\n",
    "        self.avaliacao = avaliacao\n",
    "        \n",
    "# Definição da classe MatrizSVD\n",
    "\"\"\"\n",
    "parametros:\n",
    "regularizador = lambda\n",
    "k = 6\n",
    "taxa_aprendizado = l_rate = 0.0066\n",
    "rank = variaveis latentes\n",
    "\"\"\"\n",
    "class MatrizSVD:\n",
    "    def __init__(self, dados_treino, num_usuarios, num_filmes, regularizador, rank= 30, taxa_aprendizado=0.066, tipo_arquivo=0):\n",
    "        self.avaliacoes_treino = []\n",
    "        self.avaliacoes_teste = []\n",
    "        self.num_usuarios = num_usuarios\n",
    "        self.num_filmes = num_filmes\n",
    "\n",
    "        if tipo_arquivo == 0:\n",
    "            self.ler_treino(dados_treino)\n",
    "        elif tipo_arquivo == 1:\n",
    "            self.ler_treino_grande(dados_treino)\n",
    "\n",
    "        media = self.media_avaliacoes()\n",
    "        valor_inicial = math.sqrt(media / rank)\n",
    "        self.U = [[valor_inicial] * rank for _ in range(num_usuarios)]\n",
    "        self.V = [[valor_inicial] * rank for _ in range(num_filmes)]\n",
    "        self.rank = rank\n",
    "        self.taxa_aprendizado = taxa_aprendizado\n",
    "        self.regularizador = regularizador\n",
    "        self.minimo_melhoria = 0.001\n",
    "        self.max_epocas = 30\n",
    "\n",
    "    def produto_escalar(self, v1, v2):\n",
    "        return sum([v1[i] * v2[i] for i in range(len(v1))])\n",
    "\n",
    "    def calcular_avaliacao(self, usuario_id, filme_id):\n",
    "        p = self.produto_escalar(self.U[usuario_id], self.V[filme_id])\n",
    "        return max(1, min(p, 5))\n",
    "\n",
    "    def media_avaliacoes(self):\n",
    "        soma = sum(av.avaliacao for av in self.avaliacoes_treino)\n",
    "        return soma / len(self.avaliacoes_treino)\n",
    "\n",
    "    def prever(self, usuario_id, filme_id):\n",
    "        return self.calcular_avaliacao(usuario_id, filme_id)\n",
    "\n",
    "    def treinar(self, k):\n",
    "        erro_quadratico_soma = 0\n",
    "        for av in self.avaliacoes_treino:\n",
    "            erro = av.avaliacao - self.prever(av.usuario, av.filme)\n",
    "            erro_quadratico_soma += erro ** 2\n",
    "            u_temp = self.U[av.usuario][k]\n",
    "            v_temp = self.V[av.filme][k]\n",
    "            self.U[av.usuario][k] += self.taxa_aprendizado * (erro * v_temp - self.regularizador * u_temp)\n",
    "            self.V[av.filme][k] += self.taxa_aprendizado * (erro * u_temp - self.regularizador * v_temp)\n",
    "        return math.sqrt(erro_quadratico_soma / len(self.avaliacoes_treino))\n",
    "\n",
    "    def treinar_avaliacoes(self):\n",
    "        erro_treino_antigo = 1e6\n",
    "        for k in range(self.rank):\n",
    "            for epoca in range(self.max_epocas):\n",
    "                erro_treino = self.treinar(k)\n",
    "                if abs(erro_treino_antigo - erro_treino) < self.minimo_melhoria:\n",
    "                    break\n",
    "                erro_treino_antigo = erro_treino\n",
    "\n",
    "    def calcular_rmse(self, avaliacoes):\n",
    "        erro_quadratico_soma = sum((av.avaliacao - self.calcular_avaliacao(av.usuario, av.filme)) ** 2 for av in avaliacoes)\n",
    "        return math.sqrt(erro_quadratico_soma / len(avaliacoes))\n",
    "\n",
    "    def calcular_mae(self, avaliacoes):\n",
    "        erro_absoluto_soma = sum(abs(av.avaliacao - self.calcular_avaliacao(av.usuario, av.filme)) for av in avaliacoes)\n",
    "        return erro_absoluto_soma / len(avaliacoes)\n",
    "\n",
    "    def ler_avaliacoes(self, nome_arquivo, avaliacoes, delimitador=\"\\t\"):\n",
    "        with open(nome_arquivo) as arquivo:\n",
    "            for linha in arquivo:\n",
    "                usuario_id, filme_id, avaliacao = map(int, linha.split(delimitador)[:3])\n",
    "                avaliacoes.append(Avaliacao(usuario_id, filme_id, avaliacao))\n",
    "        avaliacoes.sort(key=lambda av: (av.usuario, av.filme))\n",
    "\n",
    "    def ler_treino(self, dados_treino):\n",
    "        for row in dados_treino.itertuples():\n",
    "            self.avaliacoes_treino.append(Avaliacao(row.user_id, row.item_id, row.rating))\n",
    "\n",
    "    def ler_teste(self, dados_teste):\n",
    "        for row in dados_teste.itertuples():\n",
    "            self.avaliacoes_teste.append(Avaliacao(row.user_id, row.item_id, row.rating))\n",
    "\n"
   ]
  },
  {
   "cell_type": "code",
   "execution_count": 52,
   "metadata": {},
   "outputs": [
    {
     "name": "stdout",
     "output_type": "stream",
     "text": [
      "k = 6\n",
      "Média MAE: 0.7350038132564191\n",
      "Média RMSE: 0.9391842727025145\n"
     ]
    }
   ],
   "source": [
    "num = 6\n",
    "kf = KFold(n_splits=num)\n",
    "mae_scores = []\n",
    "rmse_scores = []\n",
    "i = 0\n",
    "for train_index, test_index in kf.split(data):\n",
    "    train_data = data.iloc[train_index]\n",
    "    test_data = data.iloc[test_index]\n",
    "    i = i + 1\n",
    "    svd = MatrizSVD(train_data, data['user_id'].nunique(), data['item_id'].nunique(),0.01)\n",
    "    svd.treinar_avaliacoes()\n",
    "    svd.ler_teste(test_data)\n",
    "    mae = svd.calcular_mae(svd.avaliacoes_teste)\n",
    "    rmse = svd.calcular_rmse(svd.avaliacoes_teste)\n",
    "    #print(\"k =\", i)\n",
    "    #print(\"MAE =\", mae)\n",
    "    #print(\"RMSE = \",rmse)\n",
    "    mae_scores.append(mae)\n",
    "    rmse_scores.append(rmse)\n",
    "print(\"k =\",num)\n",
    "print(\"Média MAE:\", np.mean(mae_scores))\n",
    "print(\"Média RMSE:\", np.mean(rmse_scores))"
   ]
  },
  {
   "cell_type": "code",
   "execution_count": 58,
   "metadata": {},
   "outputs": [
    {
     "name": "stdout",
     "output_type": "stream",
     "text": [
      "Lambda = 0.04\n",
      "Média MAE: 0.7285308732199356\n",
      "Média RMSE: 0.9307947816532041\n",
      "k = 20\n"
     ]
    }
   ],
   "source": [
    "num = 20\n",
    "kf = KFold(n_splits=num)\n",
    "mae_scores = []\n",
    "rmse_scores = []\n",
    "refmae = []\n",
    "refrmse = []\n",
    "insane = []\n",
    "for train_index, test_index in kf.split(data):\n",
    "    train_data = data.iloc[train_index]\n",
    "    test_data = data.iloc[test_index]\n",
    "    svd = MatrizSVD(train_data, data['user_id'].nunique(), data['item_id'].nunique(),0.01)\n",
    "    svd.treinar_avaliacoes()\n",
    "    svd.ler_teste(test_data)\n",
    "    mae = svd.calcular_mae(svd.avaliacoes_teste)\n",
    "    rmse = svd.calcular_rmse(svd.avaliacoes_teste)\n",
    "    mae_scores.append(mae)\n",
    "    rmse_scores.append(rmse)\n",
    "print (\"Lambda =\", i)\n",
    "print(\"Média MAE:\", np.mean(mae_scores))\n",
    "print(\"Média RMSE:\", np.mean(rmse_scores))\n",
    "refmae.append(np.mean(mae_scores))\n",
    "refrmse.append(np.mean(rmse_scores))\n",
    "insane.append(i)\n",
    "print(\"k =\",num)\n"
   ]
  }
 ],
 "metadata": {
  "kernelspec": {
   "display_name": "Python 3",
   "language": "python",
   "name": "python3"
  },
  "language_info": {
   "codemirror_mode": {
    "name": "ipython",
    "version": 3
   },
   "file_extension": ".py",
   "mimetype": "text/x-python",
   "name": "python",
   "nbconvert_exporter": "python",
   "pygments_lexer": "ipython3",
   "version": "3.11.3"
  }
 },
 "nbformat": 4,
 "nbformat_minor": 2
}
